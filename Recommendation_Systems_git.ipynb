{
  "nbformat": 4,
  "nbformat_minor": 0,
  "metadata": {
    "kernelspec": {
      "display_name": "Python 3",
      "language": "python",
      "name": "python3"
    },
    "language_info": {
      "codemirror_mode": {
        "name": "ipython",
        "version": 3
      },
      "file_extension": ".py",
      "mimetype": "text/x-python",
      "name": "python",
      "nbconvert_exporter": "python",
      "pygments_lexer": "ipython3",
      "version": "3.6.10"
    },
    "colab": {
      "name": "Recommendation Systems_git.ipynb",
      "provenance": [],
      "collapsed_sections": []
    }
  },
  "cells": [
    {
      "cell_type": "code",
      "metadata": {
        "id": "fqhpcpNu5qx7"
      },
      "source": [
        "import numpy as np\n",
        "import pandas as pd\n",
        "import matplotlib.pyplot as plt \n",
        "import sys\n",
        "import pickle"
      ],
      "execution_count": null,
      "outputs": []
    },
    {
      "cell_type": "code",
      "metadata": {
        "id": "9RBSUQC25qx8"
      },
      "source": [
        "# link to download: https://www.kaggle.com/grouplens/movielens-20m-dataset\n",
        "#Load movies data\n",
        "path = 'Downloads/movielens-20m-dataset/'\n",
        "movies = pd.read_csv(path + 'movie.csv')\n",
        "#genome_scores = pd.read_csv(path + 'genome_scores.csv')\n",
        "tags = pd.read_csv(path + 'tag.csv')\n",
        "#genome_tags = pd.read_csv(path + 'genome_tags.csv')\n",
        "#Use ratings data to downsample tags data to only movies with ratings \n",
        "ratings = pd.read_csv(path + 'rating.csv')\n",
        "#ratings = ratings.drop_duplicates('movieId')"
      ],
      "execution_count": null,
      "outputs": []
    },
    {
      "cell_type": "code",
      "metadata": {
        "id": "2p0Wz8-e5qx9"
      },
      "source": [
        "movies.tail()\n",
        "movies['genres'] = movies['genres'].str.replace('|',' ')"
      ],
      "execution_count": null,
      "outputs": []
    },
    {
      "cell_type": "code",
      "metadata": {
        "id": "0BHUT-pD5qx-",
        "outputId": "dce383a3-3c63-427d-f7cd-3dc36aaa3a93"
      },
      "source": [
        "len(movies.movieId.unique())"
      ],
      "execution_count": null,
      "outputs": [
        {
          "output_type": "execute_result",
          "data": {
            "text/plain": [
              "27278"
            ]
          },
          "metadata": {
            "tags": []
          },
          "execution_count": 4
        }
      ]
    },
    {
      "cell_type": "code",
      "metadata": {
        "id": "P5AcxEdl5qyA",
        "outputId": "29d96aa5-f15b-4979-8d1a-dc9867d4a094"
      },
      "source": [
        "len(ratings.movieId.unique())"
      ],
      "execution_count": null,
      "outputs": [
        {
          "output_type": "execute_result",
          "data": {
            "text/plain": [
              "26744"
            ]
          },
          "metadata": {
            "tags": []
          },
          "execution_count": 5
        }
      ]
    },
    {
      "cell_type": "code",
      "metadata": {
        "id": "AqnyKO2x5qyB"
      },
      "source": [
        "#limit ratings to user ratings that have rated more that 55 movies -- \n",
        "#Otherwise it becomes impossible to pivot the rating dataframe later for collaborative filtering.\n",
        "\n",
        "ratings_f = ratings.groupby('userId').filter(lambda x: len(x) >= 55)\n",
        "\n",
        "# list the movie titles that survive the filtering\n",
        "movie_list_rating = ratings_f.movieId.unique().tolist()"
      ],
      "execution_count": null,
      "outputs": []
    },
    {
      "cell_type": "code",
      "metadata": {
        "id": "4XsmjSPg5qyC",
        "outputId": "425c3ee3-b281-4acf-d502-9b30f4c96331"
      },
      "source": [
        "# no worries: we have kept 97% of the original movie titles in ratings data frame\n",
        "len(ratings_f.movieId.unique())/len(movies.movieId.unique()) * 100"
      ],
      "execution_count": null,
      "outputs": [
        {
          "output_type": "execute_result",
          "data": {
            "text/plain": [
              "97.85908057775497"
            ]
          },
          "metadata": {
            "tags": []
          },
          "execution_count": 7
        }
      ]
    },
    {
      "cell_type": "code",
      "metadata": {
        "id": "dhoUp-eD5qyD",
        "outputId": "38b28cc3-63e0-45e4-bfa7-43cc3d596ee9"
      },
      "source": [
        "# but only 57% of the users \n",
        "len(ratings_f.userId.unique())/len(ratings.userId.unique()) * 100"
      ],
      "execution_count": null,
      "outputs": [
        {
          "output_type": "execute_result",
          "data": {
            "text/plain": [
              "57.797867040211415"
            ]
          },
          "metadata": {
            "tags": []
          },
          "execution_count": 8
        }
      ]
    },
    {
      "cell_type": "code",
      "metadata": {
        "id": "N_Fi6xO05qyE"
      },
      "source": [
        "#filter the movies data frame\n",
        "movies = movies[movies.movieId.isin(movie_list_rating)]"
      ],
      "execution_count": null,
      "outputs": []
    },
    {
      "cell_type": "code",
      "metadata": {
        "id": "6aEz4QxA5qyF",
        "outputId": "d2d0eb3b-6cfb-4d5e-d311-d019b8718012"
      },
      "source": [
        "movies.head(3)"
      ],
      "execution_count": null,
      "outputs": [
        {
          "output_type": "execute_result",
          "data": {
            "text/html": [
              "<div>\n",
              "<style scoped>\n",
              "    .dataframe tbody tr th:only-of-type {\n",
              "        vertical-align: middle;\n",
              "    }\n",
              "\n",
              "    .dataframe tbody tr th {\n",
              "        vertical-align: top;\n",
              "    }\n",
              "\n",
              "    .dataframe thead th {\n",
              "        text-align: right;\n",
              "    }\n",
              "</style>\n",
              "<table border=\"1\" class=\"dataframe\">\n",
              "  <thead>\n",
              "    <tr style=\"text-align: right;\">\n",
              "      <th></th>\n",
              "      <th>movieId</th>\n",
              "      <th>title</th>\n",
              "      <th>genres</th>\n",
              "    </tr>\n",
              "  </thead>\n",
              "  <tbody>\n",
              "    <tr>\n",
              "      <th>0</th>\n",
              "      <td>1</td>\n",
              "      <td>Toy Story (1995)</td>\n",
              "      <td>Adventure Animation Children Comedy Fantasy</td>\n",
              "    </tr>\n",
              "    <tr>\n",
              "      <th>1</th>\n",
              "      <td>2</td>\n",
              "      <td>Jumanji (1995)</td>\n",
              "      <td>Adventure Children Fantasy</td>\n",
              "    </tr>\n",
              "    <tr>\n",
              "      <th>2</th>\n",
              "      <td>3</td>\n",
              "      <td>Grumpier Old Men (1995)</td>\n",
              "      <td>Comedy Romance</td>\n",
              "    </tr>\n",
              "  </tbody>\n",
              "</table>\n",
              "</div>"
            ],
            "text/plain": [
              "   movieId                    title  \\\n",
              "0        1         Toy Story (1995)   \n",
              "1        2           Jumanji (1995)   \n",
              "2        3  Grumpier Old Men (1995)   \n",
              "\n",
              "                                        genres  \n",
              "0  Adventure Animation Children Comedy Fantasy  \n",
              "1                   Adventure Children Fantasy  \n",
              "2                               Comedy Romance  "
            ]
          },
          "metadata": {
            "tags": []
          },
          "execution_count": 10
        }
      ]
    },
    {
      "cell_type": "code",
      "metadata": {
        "id": "Mzp80hgL5qyG"
      },
      "source": [
        "# map movie to id:\n",
        "Mapping_file = dict(zip(movies.title.tolist(), movies.movieId.tolist()))"
      ],
      "execution_count": null,
      "outputs": []
    },
    {
      "cell_type": "code",
      "metadata": {
        "id": "cwgmO7DN5qyH"
      },
      "source": [
        "tags.drop(['timestamp'],1, inplace=True)\n",
        "ratings_f.drop(['timestamp'],1, inplace=True)"
      ],
      "execution_count": null,
      "outputs": []
    },
    {
      "cell_type": "code",
      "metadata": {
        "id": "zVHln4645qyJ",
        "outputId": "97a7f45d-f7b6-4629-c18c-c0b7e8346cea"
      },
      "source": [
        "# create a mixed dataframe of movies title, genres \n",
        "# and all user tags given to each movie\n",
        "mixed = pd.merge(movies, tags, on='movieId', how='left')\n",
        "mixed.head(3)"
      ],
      "execution_count": null,
      "outputs": [
        {
          "output_type": "execute_result",
          "data": {
            "text/html": [
              "<div>\n",
              "<style scoped>\n",
              "    .dataframe tbody tr th:only-of-type {\n",
              "        vertical-align: middle;\n",
              "    }\n",
              "\n",
              "    .dataframe tbody tr th {\n",
              "        vertical-align: top;\n",
              "    }\n",
              "\n",
              "    .dataframe thead th {\n",
              "        text-align: right;\n",
              "    }\n",
              "</style>\n",
              "<table border=\"1\" class=\"dataframe\">\n",
              "  <thead>\n",
              "    <tr style=\"text-align: right;\">\n",
              "      <th></th>\n",
              "      <th>movieId</th>\n",
              "      <th>title</th>\n",
              "      <th>genres</th>\n",
              "      <th>userId</th>\n",
              "      <th>tag</th>\n",
              "    </tr>\n",
              "  </thead>\n",
              "  <tbody>\n",
              "    <tr>\n",
              "      <th>0</th>\n",
              "      <td>1</td>\n",
              "      <td>Toy Story (1995)</td>\n",
              "      <td>Adventure Animation Children Comedy Fantasy</td>\n",
              "      <td>1644.0</td>\n",
              "      <td>Watched</td>\n",
              "    </tr>\n",
              "    <tr>\n",
              "      <th>1</th>\n",
              "      <td>1</td>\n",
              "      <td>Toy Story (1995)</td>\n",
              "      <td>Adventure Animation Children Comedy Fantasy</td>\n",
              "      <td>1741.0</td>\n",
              "      <td>computer animation</td>\n",
              "    </tr>\n",
              "    <tr>\n",
              "      <th>2</th>\n",
              "      <td>1</td>\n",
              "      <td>Toy Story (1995)</td>\n",
              "      <td>Adventure Animation Children Comedy Fantasy</td>\n",
              "      <td>1741.0</td>\n",
              "      <td>Disney animated feature</td>\n",
              "    </tr>\n",
              "  </tbody>\n",
              "</table>\n",
              "</div>"
            ],
            "text/plain": [
              "   movieId             title                                       genres  \\\n",
              "0        1  Toy Story (1995)  Adventure Animation Children Comedy Fantasy   \n",
              "1        1  Toy Story (1995)  Adventure Animation Children Comedy Fantasy   \n",
              "2        1  Toy Story (1995)  Adventure Animation Children Comedy Fantasy   \n",
              "\n",
              "   userId                      tag  \n",
              "0  1644.0                  Watched  \n",
              "1  1741.0       computer animation  \n",
              "2  1741.0  Disney animated feature  "
            ]
          },
          "metadata": {
            "tags": []
          },
          "execution_count": 13
        }
      ]
    },
    {
      "cell_type": "code",
      "metadata": {
        "id": "0bgIzA1Q5qyL",
        "outputId": "d003b68a-2960-46b3-8bd3-8f40ecef0b5f"
      },
      "source": [
        "# create metadata from tags and genres\n",
        "mixed.fillna(\"\", inplace=True)\n",
        "mixed = pd.DataFrame(mixed.groupby('movieId')['tag'].apply(\n",
        "                                          lambda x: \"%s\" % ' '.join(x)))\n",
        "Final = pd.merge(movies, mixed, on='movieId', how='left')\n",
        "Final ['metadata'] = Final[['tag', 'genres']].apply(\n",
        "                                          lambda x: ' '.join(x), axis = 1)\n",
        "Final[['movieId','title','metadata']].head(3)"
      ],
      "execution_count": null,
      "outputs": [
        {
          "output_type": "execute_result",
          "data": {
            "text/html": [
              "<div>\n",
              "<style scoped>\n",
              "    .dataframe tbody tr th:only-of-type {\n",
              "        vertical-align: middle;\n",
              "    }\n",
              "\n",
              "    .dataframe tbody tr th {\n",
              "        vertical-align: top;\n",
              "    }\n",
              "\n",
              "    .dataframe thead th {\n",
              "        text-align: right;\n",
              "    }\n",
              "</style>\n",
              "<table border=\"1\" class=\"dataframe\">\n",
              "  <thead>\n",
              "    <tr style=\"text-align: right;\">\n",
              "      <th></th>\n",
              "      <th>movieId</th>\n",
              "      <th>title</th>\n",
              "      <th>metadata</th>\n",
              "    </tr>\n",
              "  </thead>\n",
              "  <tbody>\n",
              "    <tr>\n",
              "      <th>0</th>\n",
              "      <td>1</td>\n",
              "      <td>Toy Story (1995)</td>\n",
              "      <td>Watched computer animation Disney animated fea...</td>\n",
              "    </tr>\n",
              "    <tr>\n",
              "      <th>1</th>\n",
              "      <td>2</td>\n",
              "      <td>Jumanji (1995)</td>\n",
              "      <td>time travel adapted from:book board game child...</td>\n",
              "    </tr>\n",
              "    <tr>\n",
              "      <th>2</th>\n",
              "      <td>3</td>\n",
              "      <td>Grumpier Old Men (1995)</td>\n",
              "      <td>old people that is actually funny sequel fever...</td>\n",
              "    </tr>\n",
              "  </tbody>\n",
              "</table>\n",
              "</div>"
            ],
            "text/plain": [
              "   movieId                    title  \\\n",
              "0        1         Toy Story (1995)   \n",
              "1        2           Jumanji (1995)   \n",
              "2        3  Grumpier Old Men (1995)   \n",
              "\n",
              "                                            metadata  \n",
              "0  Watched computer animation Disney animated fea...  \n",
              "1  time travel adapted from:book board game child...  \n",
              "2  old people that is actually funny sequel fever...  "
            ]
          },
          "metadata": {
            "tags": []
          },
          "execution_count": 14
        }
      ]
    },
    {
      "cell_type": "code",
      "metadata": {
        "id": "M1PZz8R05qyN",
        "outputId": "cb1f11ab-111a-4159-ddaa-9a8e8cc85b15"
      },
      "source": [
        "from sklearn.feature_extraction.text import TfidfVectorizer\n",
        "tfidf = TfidfVectorizer(stop_words='english')\n",
        "tfidf_matrix = tfidf.fit_transform(Final['metadata'])\n",
        "tfidf_df = pd.DataFrame(tfidf_matrix.toarray(), index=Final.index.tolist())\n",
        "print(tfidf_df.shape)"
      ],
      "execution_count": null,
      "outputs": [
        {
          "output_type": "stream",
          "text": [
            "(26694, 23704)\n"
          ],
          "name": "stdout"
        }
      ]
    },
    {
      "cell_type": "code",
      "metadata": {
        "id": "EGPhMMva5qyO",
        "outputId": "51853dcc-811d-44dd-957f-69bee3c6de87"
      },
      "source": [
        "# Compress with SVD\n",
        "from sklearn.decomposition import TruncatedSVD\n",
        "svd = TruncatedSVD(n_components=200)\n",
        "latent_matrix = svd.fit_transform(tfidf_df)\n",
        "# plot var expalined to see what latent dimensions to use\n",
        "explained = svd.explained_variance_ratio_.cumsum()\n",
        "plt.plot(explained, '.-', ms = 16, color='red')\n",
        "plt.xlabel('Singular value components', fontsize= 12)\n",
        "plt.ylabel('Cumulative percent of variance', fontsize=12)        \n",
        "plt.show()"
      ],
      "execution_count": null,
      "outputs": [
        {
          "output_type": "display_data",
          "data": {
            "image/png": "[encoded data removed]",
            "text/plain": [
              "<Figure size 432x288 with 1 Axes>"
            ]
          },
          "metadata": {
            "tags": [],
            "needs_background": "light"
          }
        }
      ]
    },
    {
      "cell_type": "code",
      "metadata": {
        "id": "0uKw2giZ5qyR"
      },
      "source": [
        "#number of latent dimensions to keep\n",
        "n = 200 \n",
        "latent_matrix_1_df = pd.DataFrame(latent_matrix[:,0:n], index=Final.title.tolist())"
      ],
      "execution_count": null,
      "outputs": []
    },
    {
      "cell_type": "code",
      "metadata": {
        "id": "AY3QqWuE5qyS",
        "outputId": "cd4a5590-7c3d-43ab-a3ee-a1ae2d6531a7"
      },
      "source": [
        "# our content latent matrix:\n",
        "latent_matrix.shape"
      ],
      "execution_count": null,
      "outputs": [
        {
          "output_type": "execute_result",
          "data": {
            "text/plain": [
              "(26694, 200)"
            ]
          },
          "metadata": {
            "tags": []
          },
          "execution_count": 25
        }
      ]
    },
    {
      "cell_type": "code",
      "metadata": {
        "id": "BrNa5xTy5qyU",
        "outputId": "03e538de-c101-41b2-cc1c-4abadddfb4a4"
      },
      "source": [
        "ratings_f.head()"
      ],
      "execution_count": null,
      "outputs": [
        {
          "output_type": "execute_result",
          "data": {
            "text/html": [
              "<div>\n",
              "<style scoped>\n",
              "    .dataframe tbody tr th:only-of-type {\n",
              "        vertical-align: middle;\n",
              "    }\n",
              "\n",
              "    .dataframe tbody tr th {\n",
              "        vertical-align: top;\n",
              "    }\n",
              "\n",
              "    .dataframe thead th {\n",
              "        text-align: right;\n",
              "    }\n",
              "</style>\n",
              "<table border=\"1\" class=\"dataframe\">\n",
              "  <thead>\n",
              "    <tr style=\"text-align: right;\">\n",
              "      <th></th>\n",
              "      <th>userId</th>\n",
              "      <th>movieId</th>\n",
              "      <th>rating</th>\n",
              "    </tr>\n",
              "  </thead>\n",
              "  <tbody>\n",
              "    <tr>\n",
              "      <th>0</th>\n",
              "      <td>1</td>\n",
              "      <td>2</td>\n",
              "      <td>3.5</td>\n",
              "    </tr>\n",
              "    <tr>\n",
              "      <th>1</th>\n",
              "      <td>1</td>\n",
              "      <td>29</td>\n",
              "      <td>3.5</td>\n",
              "    </tr>\n",
              "    <tr>\n",
              "      <th>2</th>\n",
              "      <td>1</td>\n",
              "      <td>32</td>\n",
              "      <td>3.5</td>\n",
              "    </tr>\n",
              "    <tr>\n",
              "      <th>3</th>\n",
              "      <td>1</td>\n",
              "      <td>47</td>\n",
              "      <td>3.5</td>\n",
              "    </tr>\n",
              "    <tr>\n",
              "      <th>4</th>\n",
              "      <td>1</td>\n",
              "      <td>50</td>\n",
              "      <td>3.5</td>\n",
              "    </tr>\n",
              "  </tbody>\n",
              "</table>\n",
              "</div>"
            ],
            "text/plain": [
              "   userId  movieId  rating\n",
              "0       1        2     3.5\n",
              "1       1       29     3.5\n",
              "2       1       32     3.5\n",
              "3       1       47     3.5\n",
              "4       1       50     3.5"
            ]
          },
          "metadata": {
            "tags": []
          },
          "execution_count": 15
        }
      ]
    },
    {
      "cell_type": "code",
      "metadata": {
        "id": "aIFZ7pBr5qyV"
      },
      "source": [
        "ratings_f1 = pd.merge(movies[['movieId']], ratings_f, on=\"movieId\", how=\"right\")"
      ],
      "execution_count": null,
      "outputs": []
    },
    {
      "cell_type": "code",
      "metadata": {
        "id": "GXnAt44k5qyV"
      },
      "source": [
        "ratings_f2 = ratings_f1.pivot(index = 'movieId', columns ='userId', values = 'rating').fillna(0)"
      ],
      "execution_count": null,
      "outputs": []
    },
    {
      "cell_type": "code",
      "metadata": {
        "id": "GGQXkWHw5qyW",
        "outputId": "def98940-fd01-4d1e-90af-46c9bd88992f"
      },
      "source": [
        "ratings_f2.head(3)"
      ],
      "execution_count": null,
      "outputs": [
        {
          "output_type": "execute_result",
          "data": {
            "text/html": [
              "<div>\n",
              "<style scoped>\n",
              "    .dataframe tbody tr th:only-of-type {\n",
              "        vertical-align: middle;\n",
              "    }\n",
              "\n",
              "    .dataframe tbody tr th {\n",
              "        vertical-align: top;\n",
              "    }\n",
              "\n",
              "    .dataframe thead th {\n",
              "        text-align: right;\n",
              "    }\n",
              "</style>\n",
              "<table border=\"1\" class=\"dataframe\">\n",
              "  <thead>\n",
              "    <tr style=\"text-align: right;\">\n",
              "      <th>userId</th>\n",
              "      <th>1</th>\n",
              "      <th>2</th>\n",
              "      <th>3</th>\n",
              "      <th>5</th>\n",
              "      <th>7</th>\n",
              "      <th>8</th>\n",
              "      <th>11</th>\n",
              "      <th>13</th>\n",
              "      <th>14</th>\n",
              "      <th>16</th>\n",
              "      <th>...</th>\n",
              "      <th>138474</th>\n",
              "      <th>138475</th>\n",
              "      <th>138477</th>\n",
              "      <th>138483</th>\n",
              "      <th>138484</th>\n",
              "      <th>138486</th>\n",
              "      <th>138487</th>\n",
              "      <th>138490</th>\n",
              "      <th>138492</th>\n",
              "      <th>138493</th>\n",
              "    </tr>\n",
              "    <tr>\n",
              "      <th>movieId</th>\n",
              "      <th></th>\n",
              "      <th></th>\n",
              "      <th></th>\n",
              "      <th></th>\n",
              "      <th></th>\n",
              "      <th></th>\n",
              "      <th></th>\n",
              "      <th></th>\n",
              "      <th></th>\n",
              "      <th></th>\n",
              "      <th></th>\n",
              "      <th></th>\n",
              "      <th></th>\n",
              "      <th></th>\n",
              "      <th></th>\n",
              "      <th></th>\n",
              "      <th></th>\n",
              "      <th></th>\n",
              "      <th></th>\n",
              "      <th></th>\n",
              "      <th></th>\n",
              "    </tr>\n",
              "  </thead>\n",
              "  <tbody>\n",
              "    <tr>\n",
              "      <th>1</th>\n",
              "      <td>0.0</td>\n",
              "      <td>0.0</td>\n",
              "      <td>4.0</td>\n",
              "      <td>0.0</td>\n",
              "      <td>0.0</td>\n",
              "      <td>4.0</td>\n",
              "      <td>4.5</td>\n",
              "      <td>4.0</td>\n",
              "      <td>4.5</td>\n",
              "      <td>3.0</td>\n",
              "      <td>...</td>\n",
              "      <td>5.0</td>\n",
              "      <td>0.0</td>\n",
              "      <td>3.0</td>\n",
              "      <td>4.0</td>\n",
              "      <td>0.0</td>\n",
              "      <td>5.0</td>\n",
              "      <td>0.0</td>\n",
              "      <td>0.0</td>\n",
              "      <td>0.0</td>\n",
              "      <td>3.5</td>\n",
              "    </tr>\n",
              "    <tr>\n",
              "      <th>2</th>\n",
              "      <td>3.5</td>\n",
              "      <td>0.0</td>\n",
              "      <td>0.0</td>\n",
              "      <td>3.0</td>\n",
              "      <td>0.0</td>\n",
              "      <td>0.0</td>\n",
              "      <td>0.0</td>\n",
              "      <td>3.0</td>\n",
              "      <td>0.0</td>\n",
              "      <td>0.0</td>\n",
              "      <td>...</td>\n",
              "      <td>4.0</td>\n",
              "      <td>0.0</td>\n",
              "      <td>0.0</td>\n",
              "      <td>3.0</td>\n",
              "      <td>3.0</td>\n",
              "      <td>0.0</td>\n",
              "      <td>0.0</td>\n",
              "      <td>0.0</td>\n",
              "      <td>0.0</td>\n",
              "      <td>4.0</td>\n",
              "    </tr>\n",
              "    <tr>\n",
              "      <th>3</th>\n",
              "      <td>0.0</td>\n",
              "      <td>4.0</td>\n",
              "      <td>0.0</td>\n",
              "      <td>0.0</td>\n",
              "      <td>3.0</td>\n",
              "      <td>5.0</td>\n",
              "      <td>0.0</td>\n",
              "      <td>0.0</td>\n",
              "      <td>0.0</td>\n",
              "      <td>0.0</td>\n",
              "      <td>...</td>\n",
              "      <td>0.0</td>\n",
              "      <td>0.0</td>\n",
              "      <td>0.0</td>\n",
              "      <td>0.0</td>\n",
              "      <td>4.0</td>\n",
              "      <td>0.0</td>\n",
              "      <td>0.0</td>\n",
              "      <td>0.0</td>\n",
              "      <td>0.0</td>\n",
              "      <td>0.0</td>\n",
              "    </tr>\n",
              "  </tbody>\n",
              "</table>\n",
              "<p>3 rows × 80046 columns</p>\n",
              "</div>"
            ],
            "text/plain": [
              "userId   1       2       3       5       7       8       11      13      \\\n",
              "movieId                                                                   \n",
              "1           0.0     0.0     4.0     0.0     0.0     4.0     4.5     4.0   \n",
              "2           3.5     0.0     0.0     3.0     0.0     0.0     0.0     3.0   \n",
              "3           0.0     4.0     0.0     0.0     3.0     5.0     0.0     0.0   \n",
              "\n",
              "userId   14      16      ...  138474  138475  138477  138483  138484  138486  \\\n",
              "movieId                  ...                                                   \n",
              "1           4.5     3.0  ...     5.0     0.0     3.0     4.0     0.0     5.0   \n",
              "2           0.0     0.0  ...     4.0     0.0     0.0     3.0     3.0     0.0   \n",
              "3           0.0     0.0  ...     0.0     0.0     0.0     0.0     4.0     0.0   \n",
              "\n",
              "userId   138487  138490  138492  138493  \n",
              "movieId                                  \n",
              "1           0.0     0.0     0.0     3.5  \n",
              "2           0.0     0.0     0.0     4.0  \n",
              "3           0.0     0.0     0.0     0.0  \n",
              "\n",
              "[3 rows x 80046 columns]"
            ]
          },
          "metadata": {
            "tags": []
          },
          "execution_count": 18
        }
      ]
    },
    {
      "cell_type": "code",
      "metadata": {
        "id": "GXEiHX9d5qyX",
        "outputId": "e341aa81-1ab8-40fb-a28c-c59aa32837ae"
      },
      "source": [
        "len(ratings_f.movieId.unique())"
      ],
      "execution_count": null,
      "outputs": [
        {
          "output_type": "execute_result",
          "data": {
            "text/plain": [
              "26694"
            ]
          },
          "metadata": {
            "tags": []
          },
          "execution_count": 19
        }
      ]
    },
    {
      "cell_type": "code",
      "metadata": {
        "id": "JOUx1VOh5qyY"
      },
      "source": [
        "from sklearn.decomposition import TruncatedSVD\n",
        "svd = TruncatedSVD(n_components=200)\n",
        "latent_matrix_2 = svd.fit_transform(ratings_f2)\n",
        "latent_matrix_2_df = pd.DataFrame(\n",
        "                             latent_matrix_2,\n",
        "                             index=Final.title.tolist())"
      ],
      "execution_count": null,
      "outputs": []
    },
    {
      "cell_type": "code",
      "metadata": {
        "id": "_qwvQysj5qyY",
        "outputId": "e399c101-8b55-4c02-a124-1073f7fd4dd1"
      },
      "source": [
        "# plot variance expalined to see what latent dimensions to use\n",
        "explained = svd.explained_variance_ratio_.cumsum()\n",
        "plt.plot(explained, '.-', ms = 16, color='red')\n",
        "plt.xlabel('Singular value components', fontsize= 12)\n",
        "plt.ylabel('Cumulative percent of variance', fontsize=12)        \n",
        "plt.show()"
      ],
      "execution_count": null,
      "outputs": [
        {
          "output_type": "display_data",
          "data": {
            "image/png": "[encoded data removed]",
            "text/plain": [
              "<Figure size 432x288 with 1 Axes>"
            ]
          },
          "metadata": {
            "tags": [],
            "needs_background": "light"
          }
        }
      ]
    },
    {
      "cell_type": "code",
      "metadata": {
        "id": "jrtRFI2i5qya",
        "outputId": "3acd10e0-c82d-44da-e6d1-6157e990131b"
      },
      "source": [
        "from sklearn.metrics.pairwise import cosine_similarity\n",
        "# take the latent vectors for a selected movie from both content \n",
        "# and collaborative matrixes\n",
        "a_1 = np.array(latent_matrix_1_df.loc['Toy Story (1995)']).reshape(1, -1)\n",
        "a_2 = np.array(latent_matrix_2_df.loc['Toy Story (1995)']).reshape(1, -1)\n",
        "\n",
        "# calculate the similartity of this movie with the others in the list\n",
        "score_1 = cosine_similarity(latent_matrix_1_df, a_1).reshape(-1)\n",
        "score_2 = cosine_similarity(latent_matrix_2_df, a_2).reshape(-1)\n",
        "\n",
        "# an average measure of both content and collaborative \n",
        "hybrid = ((score_1 + score_2)/2.0)\n",
        "\n",
        "# form a data frame of similar movies \n",
        "dictDf = {'content': score_1 , 'collaborative': score_2, 'hybrid': hybrid} \n",
        "similar = pd.DataFrame(dictDf, index = latent_matrix_1_df.index )\n",
        "\n",
        "#sort it on the basis of either: content, collaborative or hybrid, \n",
        "# here : content\n",
        "similar.sort_values('content', ascending=False, inplace=True)\n",
        "\n",
        "similar[1:].head(11)"
      ],
      "execution_count": null,
      "outputs": [
        {
          "output_type": "execute_result",
          "data": {
            "text/html": [
              "<div>\n",
              "<style scoped>\n",
              "    .dataframe tbody tr th:only-of-type {\n",
              "        vertical-align: middle;\n",
              "    }\n",
              "\n",
              "    .dataframe tbody tr th {\n",
              "        vertical-align: top;\n",
              "    }\n",
              "\n",
              "    .dataframe thead th {\n",
              "        text-align: right;\n",
              "    }\n",
              "</style>\n",
              "<table border=\"1\" class=\"dataframe\">\n",
              "  <thead>\n",
              "    <tr style=\"text-align: right;\">\n",
              "      <th></th>\n",
              "      <th>content</th>\n",
              "      <th>collaborative</th>\n",
              "      <th>hybrid</th>\n",
              "    </tr>\n",
              "  </thead>\n",
              "  <tbody>\n",
              "    <tr>\n",
              "      <th>Toy Story 2 (1999)</th>\n",
              "      <td>0.963319</td>\n",
              "      <td>0.750948</td>\n",
              "      <td>0.857133</td>\n",
              "    </tr>\n",
              "    <tr>\n",
              "      <th>Bug's Life, A (1998)</th>\n",
              "      <td>0.911105</td>\n",
              "      <td>0.646937</td>\n",
              "      <td>0.779021</td>\n",
              "    </tr>\n",
              "    <tr>\n",
              "      <th>Ratatouille (2007)</th>\n",
              "      <td>0.905437</td>\n",
              "      <td>0.426630</td>\n",
              "      <td>0.666034</td>\n",
              "    </tr>\n",
              "    <tr>\n",
              "      <th>Monsters, Inc. (2001)</th>\n",
              "      <td>0.891255</td>\n",
              "      <td>0.622280</td>\n",
              "      <td>0.756768</td>\n",
              "    </tr>\n",
              "    <tr>\n",
              "      <th>Finding Nemo (2003)</th>\n",
              "      <td>0.880705</td>\n",
              "      <td>0.597363</td>\n",
              "      <td>0.739034</td>\n",
              "    </tr>\n",
              "    <tr>\n",
              "      <th>Ice Age (2002)</th>\n",
              "      <td>0.880325</td>\n",
              "      <td>0.482755</td>\n",
              "      <td>0.681540</td>\n",
              "    </tr>\n",
              "    <tr>\n",
              "      <th>Toy Story 3 (2010)</th>\n",
              "      <td>0.869905</td>\n",
              "      <td>0.405202</td>\n",
              "      <td>0.637553</td>\n",
              "    </tr>\n",
              "    <tr>\n",
              "      <th>Incredibles, The (2004)</th>\n",
              "      <td>0.799849</td>\n",
              "      <td>0.564249</td>\n",
              "      <td>0.682049</td>\n",
              "    </tr>\n",
              "    <tr>\n",
              "      <th>Monsters University (2013)</th>\n",
              "      <td>0.788256</td>\n",
              "      <td>0.207868</td>\n",
              "      <td>0.498062</td>\n",
              "    </tr>\n",
              "    <tr>\n",
              "      <th>Up (2009)</th>\n",
              "      <td>0.758966</td>\n",
              "      <td>0.378012</td>\n",
              "      <td>0.568489</td>\n",
              "    </tr>\n",
              "    <tr>\n",
              "      <th>Antz (1998)</th>\n",
              "      <td>0.751689</td>\n",
              "      <td>0.557802</td>\n",
              "      <td>0.654745</td>\n",
              "    </tr>\n",
              "  </tbody>\n",
              "</table>\n",
              "</div>"
            ],
            "text/plain": [
              "                             content  collaborative    hybrid\n",
              "Toy Story 2 (1999)          0.963319       0.750948  0.857133\n",
              "Bug's Life, A (1998)        0.911105       0.646937  0.779021\n",
              "Ratatouille (2007)          0.905437       0.426630  0.666034\n",
              "Monsters, Inc. (2001)       0.891255       0.622280  0.756768\n",
              "Finding Nemo (2003)         0.880705       0.597363  0.739034\n",
              "Ice Age (2002)              0.880325       0.482755  0.681540\n",
              "Toy Story 3 (2010)          0.869905       0.405202  0.637553\n",
              "Incredibles, The (2004)     0.799849       0.564249  0.682049\n",
              "Monsters University (2013)  0.788256       0.207868  0.498062\n",
              "Up (2009)                   0.758966       0.378012  0.568489\n",
              "Antz (1998)                 0.751689       0.557802  0.654745"
            ]
          },
          "metadata": {
            "tags": []
          },
          "execution_count": 28
        }
      ]
    }
  ]
}